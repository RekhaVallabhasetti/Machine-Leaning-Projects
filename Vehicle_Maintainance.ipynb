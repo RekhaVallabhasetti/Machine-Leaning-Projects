{
  "nbformat": 4,
  "nbformat_minor": 0,
  "metadata": {
    "colab": {
      "provenance": [],
      "toc_visible": true,
      "authorship_tag": "ABX9TyMN6zqOL3XECyDNiO3AxWht",
      "include_colab_link": true
    },
    "kernelspec": {
      "name": "python3",
      "display_name": "Python 3"
    },
    "language_info": {
      "name": "python"
    }
  },
  "cells": [
    {
      "cell_type": "markdown",
      "metadata": {
        "id": "view-in-github",
        "colab_type": "text"
      },
      "source": [
        "<a href=\"https://colab.research.google.com/github/RekhaVallabhasetti/Machine-Leaning-Projects/blob/main/Vehicle_Maintainance.ipynb\" target=\"_parent\"><img src=\"https://colab.research.google.com/assets/colab-badge.svg\" alt=\"Open In Colab\"/></a>"
      ]
    },
    {
      "cell_type": "code",
      "execution_count": 1,
      "metadata": {
        "id": "xrHXDWkd-FP1",
        "colab": {
          "base_uri": "https://localhost:8080/"
        },
        "outputId": "61987268-3a1b-443d-e5ad-cc0ffa31dc1e"
      },
      "outputs": [
        {
          "output_type": "stream",
          "name": "stdout",
          "text": [
            "Requirement already satisfied: pandas in /usr/local/lib/python3.10/dist-packages (2.2.2)\n",
            "Requirement already satisfied: scikit-learn in /usr/local/lib/python3.10/dist-packages (1.5.2)\n",
            "Requirement already satisfied: numpy>=1.22.4 in /usr/local/lib/python3.10/dist-packages (from pandas) (1.26.4)\n",
            "Requirement already satisfied: python-dateutil>=2.8.2 in /usr/local/lib/python3.10/dist-packages (from pandas) (2.8.2)\n",
            "Requirement already satisfied: pytz>=2020.1 in /usr/local/lib/python3.10/dist-packages (from pandas) (2024.2)\n",
            "Requirement already satisfied: tzdata>=2022.7 in /usr/local/lib/python3.10/dist-packages (from pandas) (2024.2)\n",
            "Requirement already satisfied: scipy>=1.6.0 in /usr/local/lib/python3.10/dist-packages (from scikit-learn) (1.13.1)\n",
            "Requirement already satisfied: joblib>=1.2.0 in /usr/local/lib/python3.10/dist-packages (from scikit-learn) (1.4.2)\n",
            "Requirement already satisfied: threadpoolctl>=3.1.0 in /usr/local/lib/python3.10/dist-packages (from scikit-learn) (3.5.0)\n",
            "Requirement already satisfied: six>=1.5 in /usr/local/lib/python3.10/dist-packages (from python-dateutil>=2.8.2->pandas) (1.16.0)\n"
          ]
        }
      ],
      "source": [
        "pip install pandas scikit-learn\n"
      ]
    },
    {
      "cell_type": "code",
      "source": [
        "import numpy as np\n",
        "import pandas as pd\n",
        "\n",
        "#  data for 100 vehicles\n",
        "np.random.seed(42)\n",
        "data = {\n",
        "    \"vehicle_id\": np.arange(1, 101),\n",
        "    \"engine_temp\": np.random.normal(90, 5, 100),  # Average engine temperature in Celsius\n",
        "    \"brake_pad_thickness\": np.random.normal(10, 1, 100),  # Brake pad thickness in mm\n",
        "    \"battery_voltage\": np.random.normal(12, 0.5, 100),  # Battery voltage in volts\n",
        "    \"component_age_days\": np.random.randint(30, 365, 100)  # Age of components in days\n",
        "}\n",
        "\n",
        "\n",
        "df = pd.DataFrame(data)\n",
        "print(\"Sample data:\\n\", df.head())\n"
      ],
      "metadata": {
        "colab": {
          "base_uri": "https://localhost:8080/"
        },
        "id": "1lC2ZtgSLITL",
        "outputId": "8fa3d874-237a-47a5-b87a-9c28911643cc"
      },
      "execution_count": 2,
      "outputs": [
        {
          "output_type": "stream",
          "name": "stdout",
          "text": [
            "Sample data:\n",
            "    vehicle_id  engine_temp  brake_pad_thickness  battery_voltage  \\\n",
            "0           1    92.483571             8.584629        12.178894   \n",
            "1           2    89.308678             9.579355        12.280392   \n",
            "2           3    93.238443             9.657285        12.541526   \n",
            "3           4    97.615149             9.197723        12.526901   \n",
            "4           5    88.829233             9.838714        11.311165   \n",
            "\n",
            "   component_age_days  \n",
            "0                 278  \n",
            "1                 193  \n",
            "2                 221  \n",
            "3                 256  \n",
            "4                 206  \n"
          ]
        }
      ]
    },
    {
      "cell_type": "code",
      "source": [
        "from sklearn.preprocessing import StandardScaler\n",
        "\n",
        "\n",
        "df = df.fillna(df.mean())\n",
        "\n",
        "scaler = StandardScaler()\n",
        "df[[\"engine_temp\", \"brake_pad_thickness\", \"battery_voltage\", \"component_age_days\"]] = scaler.fit_transform(\n",
        "    df[[\"engine_temp\", \"brake_pad_thickness\", \"battery_voltage\", \"component_age_days\"]]\n",
        ")\n",
        "\n",
        "print(\"\\nNormalized data:\\n\", df.head())\n"
      ],
      "metadata": {
        "colab": {
          "base_uri": "https://localhost:8080/"
        },
        "id": "DgxqUL8kLNgn",
        "outputId": "67548ebb-2cc3-460e-8ec6-08d3ee4e853a"
      },
      "execution_count": 3,
      "outputs": [
        {
          "output_type": "stream",
          "name": "stdout",
          "text": [
            "\n",
            "Normalized data:\n",
            "    vehicle_id  engine_temp  brake_pad_thickness  battery_voltage  \\\n",
            "0           1     0.664619            -1.515115         0.271485   \n",
            "1           2    -0.038089            -0.466809         0.459646   \n",
            "2           3     0.831697            -0.384681         0.943743   \n",
            "3           4     1.800406            -0.868997         0.916631   \n",
            "4           5    -0.144206            -0.193479        -1.337135   \n",
            "\n",
            "   component_age_days  \n",
            "0            1.045110  \n",
            "1            0.064057  \n",
            "2            0.387227  \n",
            "3            0.791190  \n",
            "4            0.214100  \n"
          ]
        }
      ]
    },
    {
      "cell_type": "code",
      "source": [
        "from sklearn.model_selection import train_test_split\n",
        "from sklearn.ensemble import RandomForestClassifier\n",
        "from sklearn.metrics import accuracy_score\n",
        "\n",
        "\n",
        "df[\"maintenance_required\"] = np.where(df[\"component_age_days\"] > 0.5, 1, 0)\n",
        "\n",
        "X = df[[\"engine_temp\", \"brake_pad_thickness\", \"battery_voltage\", \"component_age_days\"]]\n",
        "y = df[\"maintenance_required\"]\n",
        "\n",
        "X_train, X_test, y_train, y_test = train_test_split(X, y, test_size=0.3, random_state=42)\n",
        "\n",
        "model = RandomForestClassifier()\n",
        "model.fit(X_train, y_train)\n",
        "\n",
        "y_pred = model.predict(X_test)\n",
        "print(\"\\nModel accuracy:\", accuracy_score(y_test, y_pred))\n"
      ],
      "metadata": {
        "colab": {
          "base_uri": "https://localhost:8080/"
        },
        "id": "6Igm5ju5LRPZ",
        "outputId": "f1918a6a-b980-42c5-f0d1-ffa231df9ead"
      },
      "execution_count": 8,
      "outputs": [
        {
          "output_type": "stream",
          "name": "stdout",
          "text": [
            "\n",
            "Model accuracy: 1.0\n"
          ]
        }
      ]
    },
    {
      "cell_type": "code",
      "source": [
        "import warnings\n",
        "warnings.filterwarnings(\"ignore\", category=UserWarning, module=\"sklearn.base\")"
      ],
      "metadata": {
        "id": "754LSSSBNsvU"
      },
      "execution_count": 13,
      "outputs": []
    },
    {
      "cell_type": "code",
      "source": [
        "\n",
        "def check_maintenance(vehicle_data):\n",
        "    vehicle_id = vehicle_data[0]  # First element is 'vehicle_id'\n",
        "    features = vehicle_data[1:]  # Remaining elements are the model features\n",
        "\n",
        "    maintenance_pred = model.predict([features])[0]\n",
        "    if maintenance_pred == 1:\n",
        "        print(f\"Alert: Maintenance required for Vehicle ID {vehicle_id}\")\n",
        "    else:\n",
        "        print(f\"Vehicle ID {vehicle_id} is operating normally.\")\n",
        "\n",
        "for index, row in df.iterrows():\n",
        "    check_maintenance(row[[\"vehicle_id\", \"engine_temp\", \"brake_pad_thickness\", \"battery_voltage\", \"component_age_days\"]].values)\n",
        "\n",
        "\n"
      ],
      "metadata": {
        "colab": {
          "base_uri": "https://localhost:8080/"
        },
        "id": "7xXMyiCELTyH",
        "outputId": "6ae00965-c98b-4f00-a8b5-0e7d6fd3383e"
      },
      "execution_count": 14,
      "outputs": [
        {
          "output_type": "stream",
          "name": "stdout",
          "text": [
            "Alert: Maintenance required for Vehicle ID 1.0\n",
            "Vehicle ID 2.0 is operating normally.\n",
            "Vehicle ID 3.0 is operating normally.\n",
            "Alert: Maintenance required for Vehicle ID 4.0\n",
            "Vehicle ID 5.0 is operating normally.\n",
            "Vehicle ID 6.0 is operating normally.\n",
            "Vehicle ID 7.0 is operating normally.\n",
            "Vehicle ID 8.0 is operating normally.\n",
            "Vehicle ID 9.0 is operating normally.\n",
            "Vehicle ID 10.0 is operating normally.\n",
            "Vehicle ID 11.0 is operating normally.\n",
            "Alert: Maintenance required for Vehicle ID 12.0\n",
            "Vehicle ID 13.0 is operating normally.\n",
            "Alert: Maintenance required for Vehicle ID 14.0\n",
            "Vehicle ID 15.0 is operating normally.\n",
            "Vehicle ID 16.0 is operating normally.\n",
            "Alert: Maintenance required for Vehicle ID 17.0\n",
            "Alert: Maintenance required for Vehicle ID 18.0\n",
            "Alert: Maintenance required for Vehicle ID 19.0\n",
            "Alert: Maintenance required for Vehicle ID 20.0\n",
            "Vehicle ID 21.0 is operating normally.\n",
            "Vehicle ID 22.0 is operating normally.\n",
            "Alert: Maintenance required for Vehicle ID 23.0\n",
            "Vehicle ID 24.0 is operating normally.\n",
            "Vehicle ID 25.0 is operating normally.\n",
            "Vehicle ID 26.0 is operating normally.\n",
            "Vehicle ID 27.0 is operating normally.\n",
            "Alert: Maintenance required for Vehicle ID 28.0\n",
            "Vehicle ID 29.0 is operating normally.\n",
            "Alert: Maintenance required for Vehicle ID 30.0\n",
            "Alert: Maintenance required for Vehicle ID 31.0\n",
            "Alert: Maintenance required for Vehicle ID 32.0\n",
            "Alert: Maintenance required for Vehicle ID 33.0\n",
            "Vehicle ID 34.0 is operating normally.\n",
            "Vehicle ID 35.0 is operating normally.\n",
            "Vehicle ID 36.0 is operating normally.\n",
            "Vehicle ID 37.0 is operating normally.\n",
            "Vehicle ID 38.0 is operating normally.\n",
            "Vehicle ID 39.0 is operating normally.\n",
            "Vehicle ID 40.0 is operating normally.\n",
            "Vehicle ID 41.0 is operating normally.\n",
            "Vehicle ID 42.0 is operating normally.\n",
            "Vehicle ID 43.0 is operating normally.\n",
            "Vehicle ID 44.0 is operating normally.\n",
            "Vehicle ID 45.0 is operating normally.\n",
            "Vehicle ID 46.0 is operating normally.\n",
            "Vehicle ID 47.0 is operating normally.\n",
            "Alert: Maintenance required for Vehicle ID 48.0\n",
            "Vehicle ID 49.0 is operating normally.\n",
            "Vehicle ID 50.0 is operating normally.\n",
            "Vehicle ID 51.0 is operating normally.\n",
            "Alert: Maintenance required for Vehicle ID 52.0\n",
            "Alert: Maintenance required for Vehicle ID 53.0\n",
            "Alert: Maintenance required for Vehicle ID 54.0\n",
            "Alert: Maintenance required for Vehicle ID 55.0\n",
            "Vehicle ID 56.0 is operating normally.\n",
            "Alert: Maintenance required for Vehicle ID 57.0\n",
            "Vehicle ID 58.0 is operating normally.\n",
            "Vehicle ID 59.0 is operating normally.\n",
            "Vehicle ID 60.0 is operating normally.\n",
            "Alert: Maintenance required for Vehicle ID 61.0\n",
            "Alert: Maintenance required for Vehicle ID 62.0\n",
            "Vehicle ID 63.0 is operating normally.\n",
            "Vehicle ID 64.0 is operating normally.\n",
            "Vehicle ID 65.0 is operating normally.\n",
            "Vehicle ID 66.0 is operating normally.\n",
            "Vehicle ID 67.0 is operating normally.\n",
            "Alert: Maintenance required for Vehicle ID 68.0\n",
            "Vehicle ID 69.0 is operating normally.\n",
            "Vehicle ID 70.0 is operating normally.\n",
            "Vehicle ID 71.0 is operating normally.\n",
            "Vehicle ID 72.0 is operating normally.\n",
            "Vehicle ID 73.0 is operating normally.\n",
            "Vehicle ID 74.0 is operating normally.\n",
            "Alert: Maintenance required for Vehicle ID 75.0\n",
            "Vehicle ID 76.0 is operating normally.\n",
            "Alert: Maintenance required for Vehicle ID 77.0\n",
            "Alert: Maintenance required for Vehicle ID 78.0\n",
            "Alert: Maintenance required for Vehicle ID 79.0\n",
            "Vehicle ID 80.0 is operating normally.\n",
            "Alert: Maintenance required for Vehicle ID 81.0\n",
            "Vehicle ID 82.0 is operating normally.\n",
            "Alert: Maintenance required for Vehicle ID 83.0\n",
            "Alert: Maintenance required for Vehicle ID 84.0\n",
            "Vehicle ID 85.0 is operating normally.\n",
            "Vehicle ID 86.0 is operating normally.\n",
            "Vehicle ID 87.0 is operating normally.\n",
            "Alert: Maintenance required for Vehicle ID 88.0\n",
            "Vehicle ID 89.0 is operating normally.\n",
            "Vehicle ID 90.0 is operating normally.\n",
            "Vehicle ID 91.0 is operating normally.\n",
            "Vehicle ID 92.0 is operating normally.\n",
            "Vehicle ID 93.0 is operating normally.\n",
            "Alert: Maintenance required for Vehicle ID 94.0\n",
            "Alert: Maintenance required for Vehicle ID 95.0\n",
            "Vehicle ID 96.0 is operating normally.\n",
            "Vehicle ID 97.0 is operating normally.\n",
            "Vehicle ID 98.0 is operating normally.\n",
            "Alert: Maintenance required for Vehicle ID 99.0\n",
            "Vehicle ID 100.0 is operating normally.\n"
          ]
        }
      ]
    },
    {
      "cell_type": "code",
      "source": [],
      "metadata": {
        "id": "DKsJhAMKNj4v"
      },
      "execution_count": null,
      "outputs": []
    }
  ]
}